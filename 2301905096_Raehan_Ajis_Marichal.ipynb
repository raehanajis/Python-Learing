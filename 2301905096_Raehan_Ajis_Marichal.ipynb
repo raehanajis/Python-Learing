{
  "nbformat": 4,
  "nbformat_minor": 0,
  "metadata": {
    "colab": {
      "name": "2301905096 - Raehan Ajis Marichal.ipynb",
      "provenance": [],
      "collapsed_sections": []
    },
    "kernelspec": {
      "name": "python3",
      "display_name": "Python 3"
    },
    "language_info": {
      "name": "python"
    }
  },
  "cells": [
    {
      "cell_type": "markdown",
      "metadata": {
        "id": "CzTfk43lUVDm"
      },
      "source": [
        "2301905096 Raehan Ajis Marichal  Latihan Modul 1\n"
      ]
    },
    {
      "cell_type": "markdown",
      "metadata": {
        "id": "JkN1utRcVTmy"
      },
      "source": [
        "First program"
      ]
    },
    {
      "cell_type": "code",
      "metadata": {
        "colab": {
          "base_uri": "https://localhost:8080/"
        },
        "id": "cnyD7qmmUS9I",
        "outputId": "9dd22d62-8d1c-4ec3-8665-d2000cfec2e3"
      },
      "source": [
        "print(\"Hello Wolrd\") #menampilkan Hello World"
      ],
      "execution_count": 1,
      "outputs": [
        {
          "output_type": "stream",
          "name": "stdout",
          "text": [
            "Hello Wolrd\n"
          ]
        }
      ]
    },
    {
      "cell_type": "markdown",
      "metadata": {
        "id": "y7mkdmehVcjq"
      },
      "source": [
        "Type"
      ]
    },
    {
      "cell_type": "code",
      "metadata": {
        "colab": {
          "base_uri": "https://localhost:8080/"
        },
        "id": "tBE5gxPbU0zd",
        "outputId": "c46757d6-ce14-4883-ff17-b32c171c25f2"
      },
      "source": [
        "float(2)"
      ],
      "execution_count": 5,
      "outputs": [
        {
          "output_type": "execute_result",
          "data": {
            "text/plain": [
              "2.0"
            ]
          },
          "metadata": {},
          "execution_count": 5
        }
      ]
    },
    {
      "cell_type": "code",
      "metadata": {
        "colab": {
          "base_uri": "https://localhost:8080/"
        },
        "id": "4Z_KfrIMV15Y",
        "outputId": "a3bf7579-5fbc-4459-a714-17e15657c430"
      },
      "source": [
        "int(1.1)"
      ],
      "execution_count": 7,
      "outputs": [
        {
          "output_type": "execute_result",
          "data": {
            "text/plain": [
              "1"
            ]
          },
          "metadata": {},
          "execution_count": 7
        }
      ]
    },
    {
      "cell_type": "code",
      "metadata": {
        "colab": {
          "base_uri": "https://localhost:8080/"
        },
        "id": "v0tf-YsKWAIG",
        "outputId": "79b9563f-9d00-4dbe-a15f-4f82db8717df"
      },
      "source": [
        "int('1')"
      ],
      "execution_count": 8,
      "outputs": [
        {
          "output_type": "execute_result",
          "data": {
            "text/plain": [
              "1"
            ]
          },
          "metadata": {},
          "execution_count": 8
        }
      ]
    },
    {
      "cell_type": "code",
      "metadata": {
        "colab": {
          "base_uri": "https://localhost:8080/",
          "height": 163
        },
        "id": "-jngWKP7WCfK",
        "outputId": "00170fbf-2d43-44ff-ae89-b90d1c83ce4b"
      },
      "source": [
        "int('A')"
      ],
      "execution_count": 10,
      "outputs": [
        {
          "output_type": "error",
          "ename": "ValueError",
          "evalue": "ignored",
          "traceback": [
            "\u001b[0;31m---------------------------------------------------------------------------\u001b[0m",
            "\u001b[0;31mValueError\u001b[0m                                Traceback (most recent call last)",
            "\u001b[0;32m<ipython-input-10-58e5992d18f7>\u001b[0m in \u001b[0;36m<module>\u001b[0;34m()\u001b[0m\n\u001b[0;32m----> 1\u001b[0;31m \u001b[0mint\u001b[0m\u001b[0;34m(\u001b[0m\u001b[0;34m'A'\u001b[0m\u001b[0;34m)\u001b[0m\u001b[0;34m\u001b[0m\u001b[0;34m\u001b[0m\u001b[0m\n\u001b[0m",
            "\u001b[0;31mValueError\u001b[0m: invalid literal for int() with base 10: 'A'"
          ]
        }
      ]
    },
    {
      "cell_type": "markdown",
      "metadata": {
        "id": "3h5fLgEoWScy"
      },
      "source": [
        "Expressions and Variable"
      ]
    },
    {
      "cell_type": "code",
      "metadata": {
        "colab": {
          "base_uri": "https://localhost:8080/"
        },
        "id": "IGP_nOuoWVqG",
        "outputId": "fa2e53e6-5dd7-472a-e3ba-8df7da2e9d7a"
      },
      "source": [
        "25/5 #operator and operands"
      ],
      "execution_count": 11,
      "outputs": [
        {
          "output_type": "execute_result",
          "data": {
            "text/plain": [
              "5.0"
            ]
          },
          "metadata": {},
          "execution_count": 11
        }
      ]
    },
    {
      "cell_type": "code",
      "metadata": {
        "colab": {
          "base_uri": "https://localhost:8080/"
        },
        "id": "ZCZgPFLbW1_P",
        "outputId": "8e4628cd-2ad3-4960-bb0b-ded6a202b495"
      },
      "source": [
        "x = 9 + 2 * 3\n",
        "x"
      ],
      "execution_count": 15,
      "outputs": [
        {
          "output_type": "execute_result",
          "data": {
            "text/plain": [
              "15"
            ]
          },
          "metadata": {},
          "execution_count": 15
        }
      ]
    },
    {
      "cell_type": "code",
      "metadata": {
        "colab": {
          "base_uri": "https://localhost:8080/"
        },
        "id": "xpkozokhXRpc",
        "outputId": "4135929e-572b-49ec-eda3-f173fa777cd2"
      },
      "source": [
        "x = 2 * 1\n",
        "y = (4-2) / 2\n",
        "x+y"
      ],
      "execution_count": 18,
      "outputs": [
        {
          "output_type": "execute_result",
          "data": {
            "text/plain": [
              "3.0"
            ]
          },
          "metadata": {},
          "execution_count": 18
        }
      ]
    },
    {
      "cell_type": "code",
      "metadata": {
        "colab": {
          "base_uri": "https://localhost:8080/"
        },
        "id": "kgWzxEiGXtyo",
        "outputId": "ce165a0f-95b3-4f8e-ddd5-da2a733eccab"
      },
      "source": [
        "z = (x+y) - 2\n",
        "z"
      ],
      "execution_count": 19,
      "outputs": [
        {
          "output_type": "execute_result",
          "data": {
            "text/plain": [
              "1.0"
            ]
          },
          "metadata": {},
          "execution_count": 19
        }
      ]
    },
    {
      "cell_type": "markdown",
      "metadata": {
        "id": "WHxiYMcPYATR"
      },
      "source": [
        "String Operation"
      ]
    },
    {
      "cell_type": "code",
      "metadata": {
        "colab": {
          "base_uri": "https://localhost:8080/"
        },
        "id": "3iL5hvgBYrrY",
        "outputId": "86f7eb93-8421-4d8a-af4f-d49d72cabdb6"
      },
      "source": [
        "A =\"Raehan Ajis\"\n",
        "print(A[0:4])"
      ],
      "execution_count": 20,
      "outputs": [
        {
          "output_type": "stream",
          "name": "stdout",
          "text": [
            "Raeh\n"
          ]
        }
      ]
    },
    {
      "cell_type": "code",
      "metadata": {
        "colab": {
          "base_uri": "https://localhost:8080/"
        },
        "id": "yVrgqUNRZEWB",
        "outputId": "e6951299-6801-4b93-9322-ab91b85984f9"
      },
      "source": [
        "B =\"Saya Ganteng\"\n",
        "print(B[::4])"
      ],
      "execution_count": 23,
      "outputs": [
        {
          "output_type": "stream",
          "name": "stdout",
          "text": [
            "S t\n"
          ]
        }
      ]
    },
    {
      "cell_type": "code",
      "metadata": {
        "colab": {
          "base_uri": "https://localhost:8080/"
        },
        "id": "dAcHeJGXZXW0",
        "outputId": "c5d6ece1-7dc0-4135-c151-b648dd75c96c"
      },
      "source": [
        "len(\"Ajis\")"
      ],
      "execution_count": 30,
      "outputs": [
        {
          "output_type": "execute_result",
          "data": {
            "text/plain": [
              "4"
            ]
          },
          "metadata": {},
          "execution_count": 30
        }
      ]
    },
    {
      "cell_type": "code",
      "metadata": {
        "colab": {
          "base_uri": "https://localhost:8080/",
          "height": 35
        },
        "id": "kJ5OjKVDZ_WO",
        "outputId": "c7c004e5-7ee7-475b-f657-9d1748dda8cf"
      },
      "source": [
        "C = \"bali\"\n",
        "C.upper()"
      ],
      "execution_count": 31,
      "outputs": [
        {
          "output_type": "execute_result",
          "data": {
            "application/vnd.google.colaboratory.intrinsic+json": {
              "type": "string"
            },
            "text/plain": [
              "'BALI'"
            ]
          },
          "metadata": {},
          "execution_count": 31
        }
      ]
    },
    {
      "cell_type": "code",
      "metadata": {
        "colab": {
          "base_uri": "https://localhost:8080/",
          "height": 35
        },
        "id": "yVGZkwjzaPVp",
        "outputId": "c04fae2c-f96b-46af-ab62-bb31608db644"
      },
      "source": [
        "Name = \"Raehan\"\n",
        "\n",
        "Name + \"Ajis\""
      ],
      "execution_count": 35,
      "outputs": [
        {
          "output_type": "execute_result",
          "data": {
            "application/vnd.google.colaboratory.intrinsic+json": {
              "type": "string"
            },
            "text/plain": [
              "'RaehanAjis'"
            ]
          },
          "metadata": {},
          "execution_count": 35
        }
      ]
    },
    {
      "cell_type": "code",
      "metadata": {
        "colab": {
          "base_uri": "https://localhost:8080/"
        },
        "id": "2Kdt5IOAazQO",
        "outputId": "22ab70c2-1154-4615-cc52-828f23b3bcf6"
      },
      "source": [
        "Name = \"Raehan Ajis Marichal\"\n",
        "Name.find('al')"
      ],
      "execution_count": 38,
      "outputs": [
        {
          "output_type": "execute_result",
          "data": {
            "text/plain": [
              "18"
            ]
          },
          "metadata": {},
          "execution_count": 38
        }
      ]
    },
    {
      "cell_type": "code",
      "metadata": {
        "colab": {
          "base_uri": "https://localhost:8080/",
          "height": 35
        },
        "id": "0rjrAMl4bM1a",
        "outputId": "b684d422-a10e-46f8-d236-1ba9500ad0a0"
      },
      "source": [
        "Name = \"Raehan Ajis Marichal\"\n",
        "Name.replace(\"Raehan\",\"Sultan\")\n"
      ],
      "execution_count": 40,
      "outputs": [
        {
          "output_type": "execute_result",
          "data": {
            "application/vnd.google.colaboratory.intrinsic+json": {
              "type": "string"
            },
            "text/plain": [
              "'Sultan Ajis Marichal'"
            ]
          },
          "metadata": {},
          "execution_count": 40
        }
      ]
    }
  ]
}