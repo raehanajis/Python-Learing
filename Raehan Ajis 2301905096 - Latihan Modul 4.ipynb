{
  "nbformat": 4,
  "nbformat_minor": 0,
  "metadata": {
    "colab": {
      "name": "Untitled4.ipynb",
      "provenance": []
    },
    "kernelspec": {
      "name": "python3",
      "display_name": "Python 3"
    },
    "language_info": {
      "name": "python"
    }
  },
  "cells": [
    {
      "cell_type": "markdown",
      "source": [
        "Reading Files With Open"
      ],
      "metadata": {
        "id": "OQgML0Cwzjdp"
      }
    },
    {
      "cell_type": "code",
      "execution_count": 22,
      "metadata": {
        "colab": {
          "base_uri": "https://localhost:8080/"
        },
        "id": "qs7u10QtyhBr",
        "outputId": "1556cce8-0441-412f-fbc1-da6328bbc303"
      },
      "outputs": [
        {
          "output_type": "stream",
          "name": "stdout",
          "text": [
            "Ini budi\n"
          ]
        }
      ],
      "source": [
        "with open('sample1.csv') as file:\n",
        "\n",
        "   df = file.read()\n",
        "\n",
        "   print(df)"
      ]
    },
    {
      "cell_type": "code",
      "source": [
        "with open('sample1.csv') as file:\n",
        "\n",
        "   df = file.read()\n",
        "\n",
        "   print(df)\n",
        "\n",
        "   print(file.closed)\n",
        "   print(df)"
      ],
      "metadata": {
        "colab": {
          "base_uri": "https://localhost:8080/"
        },
        "id": "bxVdus7m0t62",
        "outputId": "a595a03c-496d-418e-a478-6a86a23533b7"
      },
      "execution_count": 2,
      "outputs": [
        {
          "output_type": "stream",
          "name": "stdout",
          "text": [
            "\"Month\", \"Average\", \"2005\", \"2006\", \"2007\", \"2008\", \"2009\", \"2010\", \"2011\", \"2012\", \"2013\", \"2014\", \"2015\"\n",
            "\"May\",  0.1,  0,  0, 1, 1, 0, 0, 0, 2, 0,  0,  0  \n",
            "\"Jun\",  0.5,  2,  1, 1, 0, 0, 1, 1, 2, 2,  0,  1\n",
            "\"Jul\",  0.7,  5,  1, 1, 2, 0, 1, 3, 0, 2,  2,  1\n",
            "\"Aug\",  2.3,  6,  3, 2, 4, 4, 4, 7, 8, 2,  2,  3\n",
            "\"Sep\",  3.5,  6,  4, 7, 4, 2, 8, 5, 2, 5,  2,  5\n",
            "\"Oct\",  2.0,  8,  0, 1, 3, 2, 5, 1, 5, 2,  3,  0\n",
            "\"Nov\",  0.5,  3,  0, 0, 1, 1, 0, 1, 0, 1,  0,  1\n",
            "\"Dec\",  0.0,  1,  0, 1, 0, 0, 0, 0, 0, 0,  0,  1\n",
            "\n",
            "\n",
            "False\n",
            "\"Month\", \"Average\", \"2005\", \"2006\", \"2007\", \"2008\", \"2009\", \"2010\", \"2011\", \"2012\", \"2013\", \"2014\", \"2015\"\n",
            "\"May\",  0.1,  0,  0, 1, 1, 0, 0, 0, 2, 0,  0,  0  \n",
            "\"Jun\",  0.5,  2,  1, 1, 0, 0, 1, 1, 2, 2,  0,  1\n",
            "\"Jul\",  0.7,  5,  1, 1, 2, 0, 1, 3, 0, 2,  2,  1\n",
            "\"Aug\",  2.3,  6,  3, 2, 4, 4, 4, 7, 8, 2,  2,  3\n",
            "\"Sep\",  3.5,  6,  4, 7, 4, 2, 8, 5, 2, 5,  2,  5\n",
            "\"Oct\",  2.0,  8,  0, 1, 3, 2, 5, 1, 5, 2,  3,  0\n",
            "\"Nov\",  0.5,  3,  0, 0, 1, 1, 0, 1, 0, 1,  0,  1\n",
            "\"Dec\",  0.0,  1,  0, 1, 0, 0, 0, 0, 0, 0,  0,  1\n",
            "\n",
            "\n"
          ]
        }
      ]
    },
    {
      "cell_type": "markdown",
      "source": [
        "Hitung Perline"
      ],
      "metadata": {
        "id": "SvSKDmur1RnZ"
      }
    },
    {
      "cell_type": "code",
      "source": [
        "with open('sample1.csv') as file:\n",
        "\n",
        "   df = file.read(150)\n",
        "\n",
        "   print(df)"
      ],
      "metadata": {
        "colab": {
          "base_uri": "https://localhost:8080/"
        },
        "id": "6BJiBZaT05oe",
        "outputId": "3d3cd4c5-11be-49bd-83d0-0cacc8af1afd"
      },
      "execution_count": 7,
      "outputs": [
        {
          "output_type": "stream",
          "name": "stdout",
          "text": [
            "\"Month\", \"Average\", \"2005\", \"2006\", \"2007\", \"2008\", \"2009\", \"2010\", \"2011\", \"2012\", \"2013\", \"2014\", \"2015\"\n",
            "\"May\",  0.1,  0,  0, 1, 1, 0, 0, 0, 2, 0,  \n"
          ]
        }
      ]
    },
    {
      "cell_type": "markdown",
      "source": [
        "Writing Files With Open"
      ],
      "metadata": {
        "id": "9YN-or4I1arm"
      }
    },
    {
      "cell_type": "code",
      "source": [
        "with open('test.csv',\"a\") as file:\n",
        "\n",
        " file.write(\"Ini budi\")"
      ],
      "metadata": {
        "id": "Dd2HMulJ1gm3"
      },
      "execution_count": 16,
      "outputs": []
    },
    {
      "cell_type": "code",
      "source": [
        "Lines=[\"Ini ayah\\n\",\"Ini Ibu\\n\",\"Ini kakak\\n\"] \n",
        "with open('test.csv',\"w\") as file:\n",
        "\n",
        " for line in Lines:\n",
        "\n",
        "   file.write(line)"
      ],
      "metadata": {
        "id": "Oh5LsNaU2gPw"
      },
      "execution_count": 14,
      "outputs": []
    },
    {
      "cell_type": "code",
      "source": [
        "with open('test.csv') as file:\n",
        "\n",
        "   df = file.read()\n",
        "\n",
        "   print(df)"
      ],
      "metadata": {
        "colab": {
          "base_uri": "https://localhost:8080/"
        },
        "id": "CGAVtjVu2Vc0",
        "outputId": "dc7ae556-0530-40b1-de4d-180fe0417986"
      },
      "execution_count": 17,
      "outputs": [
        {
          "output_type": "stream",
          "name": "stdout",
          "text": [
            "Ini ayah\n",
            "Ini Ibu\n",
            "Ini kakak\n",
            "Ini budi\n"
          ]
        }
      ]
    },
    {
      "cell_type": "code",
      "source": [
        "import pandas as pd\n",
        "csv_path = 'test.csv'\n",
        "df=pd.read_csv(csv_path)\n",
        "\n",
        "df.head()"
      ],
      "metadata": {
        "colab": {
          "base_uri": "https://localhost:8080/",
          "height": 143
        },
        "id": "YRwUL6HY3amY",
        "outputId": "71ed91df-a962-41dd-ffd8-8bd2a2e8c7b0"
      },
      "execution_count": 26,
      "outputs": [
        {
          "output_type": "execute_result",
          "data": {
            "text/html": [
              "<div>\n",
              "<style scoped>\n",
              "    .dataframe tbody tr th:only-of-type {\n",
              "        vertical-align: middle;\n",
              "    }\n",
              "\n",
              "    .dataframe tbody tr th {\n",
              "        vertical-align: top;\n",
              "    }\n",
              "\n",
              "    .dataframe thead th {\n",
              "        text-align: right;\n",
              "    }\n",
              "</style>\n",
              "<table border=\"1\" class=\"dataframe\">\n",
              "  <thead>\n",
              "    <tr style=\"text-align: right;\">\n",
              "      <th></th>\n",
              "      <th>Ini ayah</th>\n",
              "    </tr>\n",
              "  </thead>\n",
              "  <tbody>\n",
              "    <tr>\n",
              "      <th>0</th>\n",
              "      <td>Ini Ibu</td>\n",
              "    </tr>\n",
              "    <tr>\n",
              "      <th>1</th>\n",
              "      <td>Ini kakak</td>\n",
              "    </tr>\n",
              "    <tr>\n",
              "      <th>2</th>\n",
              "      <td>Ini budi</td>\n",
              "    </tr>\n",
              "  </tbody>\n",
              "</table>\n",
              "</div>"
            ],
            "text/plain": [
              "    Ini ayah\n",
              "0    Ini Ibu\n",
              "1  Ini kakak\n",
              "2   Ini budi"
            ]
          },
          "metadata": {},
          "execution_count": 26
        }
      ]
    },
    {
      "cell_type": "code",
      "source": [
        "import pandas as pd\n",
        "club = {'Country' : ['England','Rusia','Germany','Italy'], 'Trophy' : [10,20,30,40], 'Player': ['12','14','13','13']}\n",
        "\n",
        "cf=pd.DataFrame(club)\n",
        "\n",
        "print(cf)"
      ],
      "metadata": {
        "colab": {
          "base_uri": "https://localhost:8080/"
        },
        "id": "JNiARQkm4vTs",
        "outputId": "dfdd9c82-c84c-4cda-c0b4-f745f8d610e4"
      },
      "execution_count": 30,
      "outputs": [
        {
          "output_type": "stream",
          "name": "stdout",
          "text": [
            "   Country  Trophy Player\n",
            "0  England      10     12\n",
            "1    Rusia      20     14\n",
            "2  Germany      30     13\n",
            "3    Italy      40     13\n"
          ]
        }
      ]
    },
    {
      "cell_type": "code",
      "source": [
        "import pandas as pd\n",
        "club = {'Country' : ['England','Rusia','Germany','Italy'], 'Trophy' : [10,20,30,40], 'Player': ['12','14','13','13']}\n",
        "\n",
        "cf=pd.DataFrame(club)\n",
        "\n",
        "x=cf[['Country']]\n",
        "\n",
        "print(x)"
      ],
      "metadata": {
        "colab": {
          "base_uri": "https://localhost:8080/"
        },
        "id": "Rioxza4-7Pfk",
        "outputId": "42b8a235-08c5-4dd1-a7c1-d93b926bb130"
      },
      "execution_count": 32,
      "outputs": [
        {
          "output_type": "stream",
          "name": "stdout",
          "text": [
            "   Country\n",
            "0  England\n",
            "1    Rusia\n",
            "2  Germany\n",
            "3    Italy\n"
          ]
        }
      ]
    },
    {
      "cell_type": "code",
      "source": [
        "import pandas as pd\n",
        "club = {'Country' : ['England','Rusia','Germany','Italy'], 'Trophy' : [10,20,30,40], 'Player': ['12','14','13','13']}\n",
        "\n",
        "cf=pd.DataFrame(club)\n",
        "\n",
        "y=cf[['Country','Player']]\n",
        "\n",
        "print(y)"
      ],
      "metadata": {
        "colab": {
          "base_uri": "https://localhost:8080/"
        },
        "id": "DjXAGn-e7fqp",
        "outputId": "6bdbb5bd-a62a-48ca-8192-74b9fa288e18"
      },
      "execution_count": 33,
      "outputs": [
        {
          "output_type": "stream",
          "name": "stdout",
          "text": [
            "   Country Player\n",
            "0  England     12\n",
            "1    Rusia     14\n",
            "2  Germany     13\n",
            "3    Italy     13\n"
          ]
        }
      ]
    },
    {
      "cell_type": "code",
      "source": [
        "import pandas as pd\n",
        "club = {'Country' : ['England','Rusia','Germany','Italy'], 'Trophy' : [10,20,30,40], 'Player': ['12','14','13','13']}\n",
        "\n",
        "cf=pd.DataFrame(club)\n",
        "\n",
        "cf.iloc[:,0]"
      ],
      "metadata": {
        "colab": {
          "base_uri": "https://localhost:8080/"
        },
        "id": "A-weDzaM7oFX",
        "outputId": "ddcdb96c-98e7-44ff-f1d2-ee35c12b7073"
      },
      "execution_count": 39,
      "outputs": [
        {
          "output_type": "execute_result",
          "data": {
            "text/plain": [
              "0    England\n",
              "1      Rusia\n",
              "2    Germany\n",
              "3      Italy\n",
              "Name: Country, dtype: object"
            ]
          },
          "metadata": {},
          "execution_count": 39
        }
      ]
    },
    {
      "cell_type": "code",
      "source": [
        "import pandas as pd\n",
        "club = {'Country' : ['England','Rusia','Germany','Italy'], 'Trophy' : [10,20,30,40], 'Player': ['12','14','13','13']}\n",
        "\n",
        "cf=pd.DataFrame(club)\n",
        "\n",
        "cf.loc[:,\"Country\"]"
      ],
      "metadata": {
        "colab": {
          "base_uri": "https://localhost:8080/"
        },
        "id": "Gkdst9sn9yV_",
        "outputId": "054416c8-9a47-4564-b7e2-2f3109026560"
      },
      "execution_count": 43,
      "outputs": [
        {
          "output_type": "execute_result",
          "data": {
            "text/plain": [
              "0    England\n",
              "1      Rusia\n",
              "2    Germany\n",
              "3      Italy\n",
              "Name: Country, dtype: object"
            ]
          },
          "metadata": {},
          "execution_count": 43
        }
      ]
    },
    {
      "cell_type": "code",
      "source": [
        "import pandas as pd\n",
        "club = {'Country' : ['England','Rusia','Germany','Italy'], 'Trophy' : [10,20,30,40], 'Player': ['12','14','13','13']}\n",
        "\n",
        "cf=pd.DataFrame(club)\n",
        "\n",
        "cf.iloc[:,1]"
      ],
      "metadata": {
        "colab": {
          "base_uri": "https://localhost:8080/"
        },
        "id": "sVAWKQXv-mAy",
        "outputId": "d12bf23b-d695-466b-a35a-a8e4af093b7e"
      },
      "execution_count": 45,
      "outputs": [
        {
          "output_type": "execute_result",
          "data": {
            "text/plain": [
              "0    10\n",
              "1    20\n",
              "2    30\n",
              "3    40\n",
              "Name: Trophy, dtype: int64"
            ]
          },
          "metadata": {},
          "execution_count": 45
        }
      ]
    }
  ]
}