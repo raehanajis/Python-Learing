{
  "nbformat": 4,
  "nbformat_minor": 0,
  "metadata": {
    "colab": {
      "name": "Untitled3.ipynb",
      "provenance": []
    },
    "kernelspec": {
      "name": "python3",
      "display_name": "Python 3"
    },
    "language_info": {
      "name": "python"
    }
  },
  "cells": [
    {
      "cell_type": "markdown",
      "metadata": {
        "id": "GqfIP6V4KRmX"
      },
      "source": [
        "Nama : Raehan Ajis Marichal NIM : 230190506"
      ]
    },
    {
      "cell_type": "markdown",
      "metadata": {
        "id": "h_23l-BYLX6q"
      },
      "source": [
        "Branching & conditions"
      ]
    },
    {
      "cell_type": "code",
      "metadata": {
        "colab": {
          "base_uri": "https://localhost:8080/"
        },
        "id": "pNU_io_gKD0a",
        "outputId": "39206598-1dd4-4d33-b891-4a13a5033533"
      },
      "source": [
        "if 15 > 5:\n",
        "    print(\"True\")\n",
        "print(\"Lanjutt\")"
      ],
      "execution_count": 2,
      "outputs": [
        {
          "output_type": "stream",
          "name": "stdout",
          "text": [
            "True\n",
            "Lanjutt\n"
          ]
        }
      ]
    },
    {
      "cell_type": "markdown",
      "metadata": {
        "id": "ZvnhEKsvLf5U"
      },
      "source": [
        "Yang dibawah fasle jadi cuma tampil lanjut "
      ]
    },
    {
      "cell_type": "code",
      "metadata": {
        "colab": {
          "base_uri": "https://localhost:8080/"
        },
        "id": "fi5w1TLbLfgT",
        "outputId": "807d57bf-70fb-40c6-e70b-7ff8803271cd"
      },
      "source": [
        "if 15 < 5:\n",
        "  print(\"True\")\n",
        "print(\"Lanjutt\")"
      ],
      "execution_count": 3,
      "outputs": [
        {
          "output_type": "stream",
          "name": "stdout",
          "text": [
            "Lanjutt\n"
          ]
        }
      ]
    },
    {
      "cell_type": "code",
      "metadata": {
        "colab": {
          "base_uri": "https://localhost:8080/"
        },
        "id": "GnZyF4zyL7Vd",
        "outputId": "735aefe6-2748-46b5-df18-6a981c941284"
      },
      "source": [
        "age = int(input(\"Enter a number: \"))\n",
        "\n",
        "if (age>18):\n",
        "  print(\"Legal ini\")\n",
        "  print(\"Boleh Masuk\")\n",
        "\n",
        "else:\n",
        "  print(\"tidak boleh masuk\")\n"
      ],
      "execution_count": 12,
      "outputs": [
        {
          "output_type": "stream",
          "name": "stdout",
          "text": [
            "Enter a number: 17\n",
            "tidak boleh masuk\n"
          ]
        }
      ]
    },
    {
      "cell_type": "code",
      "metadata": {
        "colab": {
          "base_uri": "https://localhost:8080/"
        },
        "id": "4v4VEZqcMnQx",
        "outputId": "91c96932-a090-42b7-e451-a388ae6cd8e9"
      },
      "source": [
        "a = int(input(\"Masukan Nomor 10-20 or 30-40: \"))\n",
        "if (a >= 10 and a <= 20) or (a >= 30 and a <= 40):\n",
        "    print(\"Mantap Pas.\")\n",
        "else:\n",
        "    print(\"kurang atau Kelebihan Gan.\")"
      ],
      "execution_count": 18,
      "outputs": [
        {
          "output_type": "stream",
          "name": "stdout",
          "text": [
            "Masukan Nomor 10-20 or 30-40: 11\n",
            "Mantap Pas.\n"
          ]
        }
      ]
    },
    {
      "cell_type": "markdown",
      "metadata": {
        "id": "E0ctT9WkSH7e"
      },
      "source": [
        "Jadi jika kodisi dimana a itu lebih besar dan a kurang dari 20 maka akan menampilan mantap pas kalau lebih akan menamilan Kurang atau Lebih ini untuk or verarti di antara angjka 10 20 atau 30 sampai 40 jika dan maka akan nyambung \n"
      ]
    },
    {
      "cell_type": "markdown",
      "metadata": {
        "id": "DxrvzslFTnAy"
      },
      "source": [
        "LOOPS "
      ]
    },
    {
      "cell_type": "markdown",
      "metadata": {
        "id": "SYhA-cw3T9zk"
      },
      "source": [
        "FOR"
      ]
    },
    {
      "cell_type": "code",
      "metadata": {
        "colab": {
          "base_uri": "https://localhost:8080/"
        },
        "id": "aYJX6L9WSsmQ",
        "outputId": "0aaba406-cc99-4f23-9c50-03d26a6ddad3"
      },
      "source": [
        "adj = [\"red\", \"big\", \"tasty\"]\n",
        "fruits = [\"apple\", \"banana\", \"cherry\"]\n",
        "\n",
        "for x in adj:\n",
        "  for y in fruits:\n",
        "    print(x, y)"
      ],
      "execution_count": 19,
      "outputs": [
        {
          "output_type": "stream",
          "name": "stdout",
          "text": [
            "red apple\n",
            "red banana\n",
            "red cherry\n",
            "big apple\n",
            "big banana\n",
            "big cherry\n",
            "tasty apple\n",
            "tasty banana\n",
            "tasty cherry\n"
          ]
        }
      ]
    },
    {
      "cell_type": "markdown",
      "metadata": {
        "id": "JCZn5X-5T7K8"
      },
      "source": [
        "WHILE"
      ]
    },
    {
      "cell_type": "code",
      "metadata": {
        "colab": {
          "base_uri": "https://localhost:8080/"
        },
        "id": "40ZrEythTqCe",
        "outputId": "aedaabe7-e4b1-458a-9348-a86f0fa5bd43"
      },
      "source": [
        "I = 0\n",
        "while (I < 3):   \n",
        "    I = I + 1\n",
        "    print(\"Saya Ajis\")"
      ],
      "execution_count": 22,
      "outputs": [
        {
          "output_type": "stream",
          "name": "stdout",
          "text": [
            "Saya Ajis\n",
            "Saya Ajis\n",
            "Saya Ajis\n"
          ]
        }
      ]
    },
    {
      "cell_type": "code",
      "metadata": {
        "colab": {
          "base_uri": "https://localhost:8080/"
        },
        "id": "9xx6JzVrULaO",
        "outputId": "890cb28d-9830-49f8-d685-2f765af8f593"
      },
      "source": [
        "squares = ['orange','orange','purple','blue']\n",
        "Newsquares=[]\n",
        "\n",
        "i=0\n",
        "\n",
        "while(squares[i]=='orange'):\n",
        "\n",
        "  Newsquares.append(squares[i])\n",
        "  i=i+1\n",
        "\n",
        "  print(squares)"
      ],
      "execution_count": 28,
      "outputs": [
        {
          "output_type": "stream",
          "name": "stdout",
          "text": [
            "['orange', 'orange', 'purple', 'blue']\n",
            "['orange', 'orange', 'purple', 'blue']\n"
          ]
        }
      ]
    },
    {
      "cell_type": "markdown",
      "metadata": {
        "id": "juvUbNniVOpx"
      },
      "source": [
        "FUNCTION\n"
      ]
    },
    {
      "cell_type": "code",
      "metadata": {
        "id": "mj3I8RRZVQds"
      },
      "source": [
        "def my_function():\n",
        "  print(\"iNI fUNCTION\")"
      ],
      "execution_count": 38,
      "outputs": []
    },
    {
      "cell_type": "code",
      "metadata": {
        "colab": {
          "base_uri": "https://localhost:8080/"
        },
        "id": "piLulXuwVyt8",
        "outputId": "5ead375a-8143-4c93-e879-3ac24180d9e6"
      },
      "source": [
        "\n",
        "my_function()"
      ],
      "execution_count": 39,
      "outputs": [
        {
          "output_type": "stream",
          "name": "stdout",
          "text": [
            "iNI fUNCTION\n"
          ]
        }
      ]
    },
    {
      "cell_type": "markdown",
      "metadata": {
        "id": "ITd-cSXJeOl5"
      },
      "source": [
        "len"
      ]
    },
    {
      "cell_type": "code",
      "metadata": {
        "colab": {
          "base_uri": "https://localhost:8080/"
        },
        "id": "ts7-Y7AeWTwl",
        "outputId": "ef585a94-49a5-4f60-ab6a-46c9f276d955"
      },
      "source": [
        "len(range(1, 20, 2))"
      ],
      "execution_count": 40,
      "outputs": [
        {
          "output_type": "execute_result",
          "data": {
            "text/plain": [
              "10"
            ]
          },
          "metadata": {},
          "execution_count": 40
        }
      ]
    },
    {
      "cell_type": "code",
      "metadata": {
        "colab": {
          "base_uri": "https://localhost:8080/"
        },
        "id": "O6AsTSVoeXcm",
        "outputId": "2ff84a61-20fe-4271-bdc5-003508c64c57"
      },
      "source": [
        "office_days = [\"Tuesday\", \"Thursday\", \"Friday\"] \n",
        "len(office_days)"
      ],
      "execution_count": 41,
      "outputs": [
        {
          "output_type": "execute_result",
          "data": {
            "text/plain": [
              "3"
            ]
          },
          "metadata": {},
          "execution_count": 41
        }
      ]
    },
    {
      "cell_type": "markdown",
      "metadata": {
        "id": "QlmeI4iSejDh"
      },
      "source": [
        "sum"
      ]
    },
    {
      "cell_type": "code",
      "metadata": {
        "colab": {
          "base_uri": "https://localhost:8080/"
        },
        "id": "etJ9maNFekaR",
        "outputId": "6f07a38c-330c-40b5-92f0-a359e976af1b"
      },
      "source": [
        "angka = [10,20,30,40,50]\n",
        "\n",
        "S=sum(angka)\n",
        "\n",
        "S"
      ],
      "execution_count": 42,
      "outputs": [
        {
          "output_type": "execute_result",
          "data": {
            "text/plain": [
              "150"
            ]
          },
          "metadata": {},
          "execution_count": 42
        }
      ]
    },
    {
      "cell_type": "markdown",
      "metadata": {
        "id": "OrB6Jd08ez3s"
      },
      "source": [
        "Sort /Sorted"
      ]
    },
    {
      "cell_type": "code",
      "metadata": {
        "colab": {
          "base_uri": "https://localhost:8080/"
        },
        "id": "aj6RGD1neyPr",
        "outputId": "9fb472e9-ee42-4a43-c58f-25597d701e20"
      },
      "source": [
        "angka = [20,10,60,40,50]\n",
        "\n",
        "S=sorted(angka)\n",
        "\n",
        "print(angka)\n",
        "print(\"=========+++++======\")\n",
        "S"
      ],
      "execution_count": 52,
      "outputs": [
        {
          "output_type": "stream",
          "name": "stdout",
          "text": [
            "[20, 10, 60, 40, 50]\n",
            "=========+++++======\n"
          ]
        },
        {
          "output_type": "execute_result",
          "data": {
            "text/plain": [
              "[10, 20, 40, 50, 60]"
            ]
          },
          "metadata": {},
          "execution_count": 52
        }
      ]
    },
    {
      "cell_type": "code",
      "metadata": {
        "colab": {
          "base_uri": "https://localhost:8080/"
        },
        "id": "gMnQgh93fZsm",
        "outputId": "b73f3b1e-8be8-470d-eecd-14326cd55ffb"
      },
      "source": [
        "angka = [20,10,60,40,50]\n",
        "\n",
        "angka.sort()\n",
        "\n",
        "angka"
      ],
      "execution_count": 54,
      "outputs": [
        {
          "output_type": "execute_result",
          "data": {
            "text/plain": [
              "[10, 20, 40, 50, 60]"
            ]
          },
          "metadata": {},
          "execution_count": 54
        }
      ]
    },
    {
      "cell_type": "markdown",
      "metadata": {
        "id": "1DXLZOywfs3e"
      },
      "source": [
        "Making Function V2"
      ]
    },
    {
      "cell_type": "code",
      "metadata": {
        "id": "ExLoToaPfnao"
      },
      "source": [
        "def add1(a):\n",
        "\n",
        "    b=a+1\n",
        "    return b\n",
        "\n"
      ],
      "execution_count": 58,
      "outputs": []
    },
    {
      "cell_type": "code",
      "metadata": {
        "colab": {
          "base_uri": "https://localhost:8080/"
        },
        "id": "p-7VYYBDgOz3",
        "outputId": "6325f5b4-f9c8-474f-e01f-088bf65806fb"
      },
      "source": [
        "  add1(5)\n",
        "  6\n",
        "  c=add1(10)\n",
        "\n",
        "  c"
      ],
      "execution_count": 59,
      "outputs": [
        {
          "output_type": "execute_result",
          "data": {
            "text/plain": [
              "11"
            ]
          },
          "metadata": {},
          "execution_count": 59
        }
      ]
    },
    {
      "cell_type": "markdown",
      "metadata": {
        "id": "Nt1wq656gWBi"
      },
      "source": [
        "Multiple Parameters"
      ]
    },
    {
      "cell_type": "code",
      "metadata": {
        "id": "B-1XlafsgYlt"
      },
      "source": [
        "def mult(a,b):\n",
        "\n",
        "    c=a*b\n",
        "    return c"
      ],
      "execution_count": 61,
      "outputs": []
    },
    {
      "cell_type": "code",
      "metadata": {
        "colab": {
          "base_uri": "https://localhost:8080/"
        },
        "id": "L8V1EcRYgin4",
        "outputId": "929daa0f-8c84-49fb-9c95-b28b6e28f5ff"
      },
      "source": [
        "mult(2,3)"
      ],
      "execution_count": 62,
      "outputs": [
        {
          "output_type": "execute_result",
          "data": {
            "text/plain": [
              "6"
            ]
          },
          "metadata": {},
          "execution_count": 62
        }
      ]
    },
    {
      "cell_type": "code",
      "metadata": {
        "id": "-8JzIqrOhu4i"
      },
      "source": [
        "def Artistname(*names):\n",
        "  for name in names:\n",
        "    print (name)"
      ],
      "execution_count": 68,
      "outputs": []
    },
    {
      "cell_type": "code",
      "metadata": {
        "colab": {
          "base_uri": "https://localhost:8080/"
        },
        "id": "a2IQgUQtiC8-",
        "outputId": "22369af3-ce9c-42b3-acf6-ef7af3ced3a2"
      },
      "source": [
        "Artistname(\"Spiderman\",\"Superman\")"
      ],
      "execution_count": 69,
      "outputs": [
        {
          "output_type": "stream",
          "name": "stdout",
          "text": [
            "Spiderman\n",
            "Superman\n"
          ]
        }
      ]
    },
    {
      "cell_type": "code",
      "metadata": {
        "id": "Ti1YfABsiRnU"
      },
      "source": [
        "def Thriller():\n",
        "\n",
        "  Date=1928\n",
        "  \n",
        "  return(Date)"
      ],
      "execution_count": 72,
      "outputs": []
    },
    {
      "cell_type": "code",
      "metadata": {
        "colab": {
          "base_uri": "https://localhost:8080/"
        },
        "id": "F_PQ68YBi2sg",
        "outputId": "09842767-3607-4bfb-ca51-bbeccea3c5a9"
      },
      "source": [
        "Date = 2017\n",
        "\n",
        "print(Thriller())\n",
        "\n",
        "1982\n",
        "\n",
        "print(Date)"
      ],
      "execution_count": 73,
      "outputs": [
        {
          "output_type": "stream",
          "name": "stdout",
          "text": [
            "1928\n",
            "2017\n"
          ]
        }
      ]
    },
    {
      "cell_type": "code",
      "metadata": {
        "id": "2uG30U-tjHYf"
      },
      "source": [
        "def Ajis():\n",
        "  global Laku\n",
        "  Laku = '45 Juta'\n",
        "\n",
        "  return Laku"
      ],
      "execution_count": 74,
      "outputs": []
    },
    {
      "cell_type": "code",
      "metadata": {
        "colab": {
          "base_uri": "https://localhost:8080/"
        },
        "id": "SAg-58pwjWo9",
        "outputId": "7a3e5eb2-ab6e-4e69-b864-4735f77f3163"
      },
      "source": [
        "Ajis()\n",
        "print(Laku)"
      ],
      "execution_count": 75,
      "outputs": [
        {
          "output_type": "stream",
          "name": "stdout",
          "text": [
            "45 Juta\n"
          ]
        }
      ]
    },
    {
      "cell_type": "markdown",
      "metadata": {
        "id": "OMZVeyOgjj4M"
      },
      "source": [
        "OBJECT AND CLASS"
      ]
    },
    {
      "cell_type": "code",
      "metadata": {
        "colab": {
          "base_uri": "https://localhost:8080/"
        },
        "id": "LyroHGcfjlxX",
        "outputId": "8c476046-8d77-43ed-e962-0cef2280f176"
      },
      "source": [
        "class ident:\n",
        "  def __init__(self, name, age):\n",
        "    self.name = name\n",
        "    self.age = age\n",
        "\n",
        "p1 = ident(\"Ajis\", 20)\n",
        "\n",
        "print(p1.name)\n",
        "print(p1.age)"
      ],
      "execution_count": 79,
      "outputs": [
        {
          "output_type": "stream",
          "name": "stdout",
          "text": [
            "Ajis\n",
            "20\n"
          ]
        }
      ]
    },
    {
      "cell_type": "code",
      "metadata": {
        "colab": {
          "base_uri": "https://localhost:8080/"
        },
        "id": "qamD0qHRklz9",
        "outputId": "226bcbfe-1e96-4ca4-9f37-89fb909f4504"
      },
      "source": [
        "class ident:\n",
        "  def __init__(self, name, age):\n",
        "    self.name = name\n",
        "    self.age = age\n",
        "\n",
        "  def help(self):\n",
        "    print(\"Hello my name is \" + self.name)\n",
        "\n",
        "p1 = ident(\"Ajis\", 20)\n",
        "p1.help()"
      ],
      "execution_count": 80,
      "outputs": [
        {
          "output_type": "stream",
          "name": "stdout",
          "text": [
            "Hello my name is John\n"
          ]
        }
      ]
    }
  ]
}