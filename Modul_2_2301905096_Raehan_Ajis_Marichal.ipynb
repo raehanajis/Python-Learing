{
  "nbformat": 4,
  "nbformat_minor": 0,
  "metadata": {
    "colab": {
      "name": "Modul 2 2301905096 - Raehan Ajis Marichal.ipynb",
      "provenance": []
    },
    "kernelspec": {
      "name": "python3",
      "display_name": "Python 3"
    },
    "language_info": {
      "name": "python"
    }
  },
  "cells": [
    {
      "cell_type": "markdown",
      "metadata": {
        "id": "qYH8lHhhN4c_"
      },
      "source": [
        "Tuples"
      ]
    },
    {
      "cell_type": "code",
      "metadata": {
        "colab": {
          "base_uri": "https://localhost:8080/"
        },
        "id": "1SqFKE8MNwoa",
        "outputId": "73ee3757-4ce2-4f7f-b403-934d4cc4bb7c"
      },
      "source": [
        "A = ('Raehan','Ajis')\n",
        "print(A)"
      ],
      "execution_count": 1,
      "outputs": [
        {
          "output_type": "stream",
          "name": "stdout",
          "text": [
            "('Raehan', 'Ajis')\n"
          ]
        }
      ]
    },
    {
      "cell_type": "markdown",
      "metadata": {
        "id": "NgUgSG2sOUN7"
      },
      "source": [
        "List"
      ]
    },
    {
      "cell_type": "code",
      "metadata": {
        "colab": {
          "base_uri": "https://localhost:8080/"
        },
        "id": "WAeOy4KMOd0T",
        "outputId": "96d66fcf-ab40-4eae-e4da-0f7ef302438d"
      },
      "source": [
        "B = (\"Keluarga\",\"Ayah\",\"Ibu\",\"Keluarga\",\"Kakek\")\n",
        "print(B)"
      ],
      "execution_count": 3,
      "outputs": [
        {
          "output_type": "stream",
          "name": "stdout",
          "text": [
            "('Keluarga', 'Ayah', 'Ibu', 'Keluarga', 'Kakek')\n"
          ]
        }
      ]
    },
    {
      "cell_type": "markdown",
      "metadata": {
        "id": "R4tTzUMHPF2N"
      },
      "source": [
        "List OF Tuples"
      ]
    },
    {
      "cell_type": "code",
      "metadata": {
        "colab": {
          "base_uri": "https://localhost:8080/"
        },
        "id": "fi-TBi4pPH3C",
        "outputId": "a0712e44-bfb8-4b4f-8a20-a5291d63a78f"
      },
      "source": [
        "fruit = [(1, 'Pinaple'), (2, 'Apple'), (3, 'Grape'),\n",
        "        (4, 'Cherry'), (5, 'Manggo')]\n",
        "fruit"
      ],
      "execution_count": 4,
      "outputs": [
        {
          "output_type": "execute_result",
          "data": {
            "text/plain": [
              "[(1, 'Pinaple'), (2, 'Apple'), (3, 'Grape'), (4, 'Cherry'), (5, 'Manggo')]"
            ]
          },
          "metadata": {},
          "execution_count": 4
        }
      ]
    },
    {
      "cell_type": "markdown",
      "metadata": {
        "id": "gwMe4v2kPkpm"
      },
      "source": [
        "Convert String To list "
      ]
    },
    {
      "cell_type": "code",
      "metadata": {
        "colab": {
          "base_uri": "https://localhost:8080/"
        },
        "id": "p4WovUX1Pm6z",
        "outputId": "9b8da971-3029-49ec-bc1d-e97f15702504"
      },
      "source": [
        "def Convert(string):\n",
        "    li = list(string.split(\" \"))\n",
        "    return li\n",
        "  \n",
        "str1 = \"Banana Apple\"\n",
        "print(Convert(str1))"
      ],
      "execution_count": 10,
      "outputs": [
        {
          "output_type": "stream",
          "name": "stdout",
          "text": [
            "['Banana', 'Apple']\n"
          ]
        }
      ]
    },
    {
      "cell_type": "markdown",
      "metadata": {
        "id": "AylygRRFQoc9"
      },
      "source": [
        "Sets"
      ]
    },
    {
      "cell_type": "code",
      "metadata": {
        "colab": {
          "base_uri": "https://localhost:8080/"
        },
        "id": "petX3c3uQtW7",
        "outputId": "83219416-b372-4787-d5eb-bb696faf9d88"
      },
      "source": [
        "fruit_list = [\"Apple\",\"Pinaple\",\"Pinaple\",2]\n",
        "fruit_set  = set(fruit_list)\n",
        "fruit_set"
      ],
      "execution_count": 11,
      "outputs": [
        {
          "output_type": "execute_result",
          "data": {
            "text/plain": [
              "{2, 'Apple', 'Pinaple'}"
            ]
          },
          "metadata": {},
          "execution_count": 11
        }
      ]
    },
    {
      "cell_type": "markdown",
      "metadata": {
        "id": "Sv_eyyvNRcwP"
      },
      "source": [
        "Set Operation\n"
      ]
    },
    {
      "cell_type": "code",
      "metadata": {
        "colab": {
          "base_uri": "https://localhost:8080/"
        },
        "id": "ErdFMPu_RfAc",
        "outputId": "1933075a-acd5-468b-c408-cdffdeebad34"
      },
      "source": [
        "A = {\"A\",\"B\",\"C\",\"D\",\"E\"}\n",
        "A.add(\"Ajis\")\n",
        "A"
      ],
      "execution_count": 12,
      "outputs": [
        {
          "output_type": "execute_result",
          "data": {
            "text/plain": [
              "{'A', 'Ajis', 'B', 'C', 'D', 'E'}"
            ]
          },
          "metadata": {},
          "execution_count": 12
        }
      ]
    },
    {
      "cell_type": "code",
      "metadata": {
        "colab": {
          "base_uri": "https://localhost:8080/"
        },
        "id": "7inQPqrJSHFX",
        "outputId": "9ce4682e-3050-42ed-daa6-802ce611940f"
      },
      "source": [
        "A = {\"A\",\"B\",\"C\",\"D\",\"E\"}\n",
        "A.add(\"Ajis\")\n",
        "A.remove(\"B\")\n",
        "A\n"
      ],
      "execution_count": 15,
      "outputs": [
        {
          "output_type": "execute_result",
          "data": {
            "text/plain": [
              "{'A', 'Ajis', 'C', 'D', 'E'}"
            ]
          },
          "metadata": {},
          "execution_count": 15
        }
      ]
    },
    {
      "cell_type": "code",
      "metadata": {
        "colab": {
          "base_uri": "https://localhost:8080/"
        },
        "id": "KtL0KBf9Suu0",
        "outputId": "4bbc94f2-41ce-4baa-9bea-53bc58f56658"
      },
      "source": [
        "A = {\"A\",\"B\",\"C\",\"D\",\"E\"}\n",
        "\n",
        "\"B\" in A"
      ],
      "execution_count": 17,
      "outputs": [
        {
          "output_type": "execute_result",
          "data": {
            "text/plain": [
              "True"
            ]
          },
          "metadata": {},
          "execution_count": 17
        }
      ]
    },
    {
      "cell_type": "code",
      "metadata": {
        "colab": {
          "base_uri": "https://localhost:8080/"
        },
        "id": "ZY4xVa-QS2RI",
        "outputId": "6d4bb3d2-0f1f-44be-f9d0-9b94dbd31b95"
      },
      "source": [
        "A = {\"A\",\"B\",\"C\",\"D\",\"E\"}\n",
        "\n",
        "\"L\" in A"
      ],
      "execution_count": 18,
      "outputs": [
        {
          "output_type": "execute_result",
          "data": {
            "text/plain": [
              "False"
            ]
          },
          "metadata": {},
          "execution_count": 18
        }
      ]
    },
    {
      "cell_type": "code",
      "metadata": {
        "colab": {
          "base_uri": "https://localhost:8080/"
        },
        "id": "I-xfpF-_THgS",
        "outputId": "67727afb-2b45-4447-ee89-6eb63ce9786d"
      },
      "source": [
        "A = {\"A\",\"B\",\"C\",\"D\",\"E\"}\n",
        "B = {\"A\",\"B\",\"I\",\"D\",\"O\"}\n",
        "C = A & B\n",
        "C"
      ],
      "execution_count": 20,
      "outputs": [
        {
          "output_type": "execute_result",
          "data": {
            "text/plain": [
              "{'A', 'B', 'D'}"
            ]
          },
          "metadata": {},
          "execution_count": 20
        }
      ]
    },
    {
      "cell_type": "code",
      "metadata": {
        "colab": {
          "base_uri": "https://localhost:8080/"
        },
        "id": "XKQ1QDlFSSpA",
        "outputId": "07befc25-44b1-4330-ce85-a9ecbd45b3e9"
      },
      "source": [
        "A = {\"A\",\"B\",\"C\",\"D\",\"E\"}\n",
        "B = {\"A\",\"B\",\"I\",\"D\",\"O\"}\n",
        "\n",
        "print(\"Union :\", A | B)"
      ],
      "execution_count": 16,
      "outputs": [
        {
          "output_type": "stream",
          "name": "stdout",
          "text": [
            "Union : {'I', 'E', 'A', 'C', 'D', 'B', 'O'}\n"
          ]
        }
      ]
    },
    {
      "cell_type": "code",
      "metadata": {
        "colab": {
          "base_uri": "https://localhost:8080/"
        },
        "id": "l0ivHuaWTe5m",
        "outputId": "2070ecf0-a205-4373-d2fb-a48272d65a92"
      },
      "source": [
        "A = {\"A\",\"B\",\"C\",\"D\",\"E\"}\n",
        "B = {\"A\",\"B\",\"I\",\"D\",\"O\"}\n",
        "B.issubset(A)"
      ],
      "execution_count": 21,
      "outputs": [
        {
          "output_type": "execute_result",
          "data": {
            "text/plain": [
              "False"
            ]
          },
          "metadata": {},
          "execution_count": 21
        }
      ]
    },
    {
      "cell_type": "markdown",
      "metadata": {
        "id": "GcOHzJwdUBDQ"
      },
      "source": [
        "Dictioneries"
      ]
    },
    {
      "cell_type": "code",
      "metadata": {
        "colab": {
          "base_uri": "https://localhost:8080/"
        },
        "id": "evEBwv5wUC9M",
        "outputId": "a8286ac5-e757-478d-bfbd-fe5e5c720978"
      },
      "source": [
        "dict = {'Name': 'Raehan', 'Age': 20, 'Class': 'LA20' , 'NIM':'2301905096'}\n",
        "print (\"dict['Name']: \", dict['Name'])\n",
        "print (\"dict['Age']: \", dict['Age'])\n",
        "print (\"dict['NIM']: \", dict['NIM'])"
      ],
      "execution_count": 25,
      "outputs": [
        {
          "output_type": "stream",
          "name": "stdout",
          "text": [
            "dict['Name']:  Raehan\n",
            "dict['Age']:  20\n",
            "dict['NIM']:  2301905096\n"
          ]
        }
      ]
    },
    {
      "cell_type": "code",
      "metadata": {
        "colab": {
          "base_uri": "https://localhost:8080/"
        },
        "id": "nc_26uPVZj1C",
        "outputId": "c3316d28-91a2-4fbb-c470-8d2cf4116ada"
      },
      "source": [
        "dict = {'Name': 'Raehan', 'Age': 20, 'Class': 'LA20' , 'NIM':'2301905096'}\n",
        "'Alice' in dict"
      ],
      "execution_count": 27,
      "outputs": [
        {
          "output_type": "execute_result",
          "data": {
            "text/plain": [
              "False"
            ]
          },
          "metadata": {},
          "execution_count": 27
        }
      ]
    },
    {
      "cell_type": "code",
      "metadata": {
        "colab": {
          "base_uri": "https://localhost:8080/"
        },
        "id": "U8JDdTNhZ0s9",
        "outputId": "7e19c183-d686-47c4-e5e1-2249381d1024"
      },
      "source": [
        "dict = {'Name': \"Raehan\", 'Age': 20, 'Class': 'LA20' , 'NIM':'2301905096'}\n",
        "'Name' in dict"
      ],
      "execution_count": 33,
      "outputs": [
        {
          "output_type": "execute_result",
          "data": {
            "text/plain": [
              "True"
            ]
          },
          "metadata": {},
          "execution_count": 33
        }
      ]
    },
    {
      "cell_type": "markdown",
      "metadata": {
        "id": "Tw4n5kOEaK57"
      },
      "source": [
        "Jadi harus idnuknya dipanggil atau check bukan childnya kayak di atas saya ketikraehan tetep false padahal lalu saya keti name hasilnya true"
      ]
    }
  ]
}